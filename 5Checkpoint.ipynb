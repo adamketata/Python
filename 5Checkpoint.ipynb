{
 "cells": [
  {
   "cell_type": "code",
   "execution_count": 93,
   "metadata": {},
   "outputs": [
    {
     "name": "stdout",
     "output_type": "stream",
     "text": [
      "This is Q1\n",
      "[0, 0, 0, 0, 1, 0, 0, 0]\n",
      "This is Q2\n",
      "12\n",
      "This is Q3\n",
      "50>45\n",
      "70>45\n",
      "50>45\n",
      "52>45\n",
      "68>45\n",
      "70>45\n",
      "83>45\n",
      "This is Q4\n",
      "[ 9  7 17]\n"
     ]
    }
   ],
   "source": [
    "import numpy as np\n",
    "#Q1\n",
    "print(\"This is Q1\")\n",
    "a = np.array([0,0,0,0,1,0,0,0])\n",
    "b = a.tolist()\n",
    "print(b) #new list\n",
    "#Q2\n",
    "print(\"This is Q2\")\n",
    "myarray = np.array([[0,1,2],[3,4,5],[6,7,8]])\n",
    "result = 0\n",
    "for item in range(0, (len(myarray))):\n",
    "    result += int(myarray[[item],[item]]) \n",
    "print(result)\n",
    "#Q3\n",
    "print(\"This is Q3\")\n",
    "myarray2= np.array([[50,70,27],[37,50,52],[68,70,83]])\n",
    "x = 45\n",
    "for item in myarray2:\n",
    "    for num in item:\n",
    "        if num > x:\n",
    "            print(f'{num}>{x}')\n",
    "#Q4\n",
    "print(\"This is Q4\")\n",
    "myarray_a = np.array([3,2,9]) \n",
    "myarray_b = np.array([6,5,8])\n",
    "myarray_c = np.array([])\n",
    "for item1 in range(0, len(myarray_a)):\n",
    "    myarray_c = np.array([(myarray_a[(item1-2)]+myarray_b[(item1-2)]),(myarray_a[(item1-1)]+myarray_b[(item1-1)]),(myarray_a[item1]+myarray_b[item1])]) \n",
    "print(myarray_c)\n",
    "\n",
    "#Q5\n",
    "\n",
    "    \n"
   ]
  },
  {
   "cell_type": "code",
   "execution_count": null,
   "metadata": {},
   "outputs": [],
   "source": []
  },
  {
   "cell_type": "code",
   "execution_count": null,
   "metadata": {},
   "outputs": [],
   "source": []
  }
 ],
 "metadata": {
  "kernelspec": {
   "display_name": "Python 3",
   "language": "python",
   "name": "python3"
  },
  "language_info": {
   "codemirror_mode": {
    "name": "ipython",
    "version": 3
   },
   "file_extension": ".py",
   "mimetype": "text/x-python",
   "name": "python",
   "nbconvert_exporter": "python",
   "pygments_lexer": "ipython3",
   "version": "3.7.6"
  }
 },
 "nbformat": 4,
 "nbformat_minor": 4
}
